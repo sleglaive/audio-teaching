{
 "cells": [
  {
   "cell_type": "markdown",
   "source": [
    "# Discrete Fourier transform and Hermitian symmetry"
   ],
   "metadata": {}
  },
  {
   "cell_type": "code",
   "execution_count": null,
   "source": [
    "import matplotlib\n",
    "# matplotlib.use('Qt4Agg') # if problem with PyQt5\n",
    "\n",
    "import numpy as np\n",
    "import soundfile as sf \n",
    "import matplotlib.pyplot as plt\n",
    "%matplotlib inline\n",
    "\n",
    "import IPython.display as ipd"
   ],
   "outputs": [],
   "metadata": {}
  },
  {
   "cell_type": "markdown",
   "source": [
    "We load a piano signal, plot its waveform, and listen to it."
   ],
   "metadata": {}
  },
  {
   "cell_type": "code",
   "execution_count": null,
   "source": [
    "wavfile = './data/piano_note_isol.wav'\n",
    "\n",
    "x, fs = sf.read(wavfile)\n",
    "\n",
    "print(\"sampling rate: %d\" % fs)\n",
    "\n",
    "T = x.shape[0]\n",
    "\n",
    "time_axis = np.arange(0, T)/fs # time axis in seconds\n",
    "\n",
    "plt.figure(figsize=(10,3))\n",
    "plt.plot(time_axis, x)\n",
    "plt.xlabel('time (s)')\n",
    "plt.ylabel('amplitude')\n",
    "plt.title('waveform')\n",
    "\n",
    "ipd.Audio(x, rate=fs) "
   ],
   "outputs": [],
   "metadata": {}
  },
  {
   "cell_type": "markdown",
   "source": [
    "We compute its discrete Fourier transform (DFT) with a number of points $F$ equal to the signal length $T$: \n",
    "\n",
    "$$ X(f) = \\sum_{t=0}^{T-1} x(t) \\exp\\left(-j2\\pi \\frac{f t}{F}\\right), \\qquad \\forall f \\in \\{0,...,F-1\\}. $$\n",
    "\n",
    "\n",
    "We plot the magnitude spectrum and the power spectrum in dB."
   ],
   "metadata": {}
  },
  {
   "cell_type": "code",
   "execution_count": null,
   "source": [
    "F = T # number of points for the DFT\n",
    "\n",
    "X = np.fft.fft(x, F) # DFT\n",
    "\n",
    "freq_axis = np.arange(F)/F*fs # frequency axis in Hertz\n",
    "\n",
    "plt.figure(figsize=(10,3))\n",
    "plt.plot(freq_axis, np.abs(X))\n",
    "plt.title('Magnitude spectrum')\n",
    "plt.xlabel('frequency (Hz)')\n",
    "\n",
    "plt.figure(figsize=(10,3))\n",
    "plt.plot(freq_axis, 10*np.log10(np.abs(X)**2))\n",
    "plt.title('Power spectrum in dB')\n",
    "plt.xlabel('frequency (Hz)')\n",
    "plt.ylim([-10, 80])"
   ],
   "outputs": [],
   "metadata": {}
  },
  {
   "cell_type": "markdown",
   "source": [
    "The DFT is generally complex-valued. However, due to the Hermitian symmetry property that holds for real-valued signals, we have: \n",
    "\n",
    "$$X(F-f) = X^*(f), \\qquad f \\in \\{0,...,F-1\\}.$$\n",
    "\n",
    "---\n",
    "\n",
    "**Question**: Print the values of `X(0)` and `X(F//2)`, what is special with these two coefficients, compared with other ones? Assuming $F$ is even, justify theoretically what you observe."
   ],
   "metadata": {}
  },
  {
   "cell_type": "code",
   "execution_count": null,
   "source": [],
   "outputs": [],
   "metadata": {}
  },
  {
   "cell_type": "markdown",
   "source": [
    "\n",
    "---\n"
   ],
   "metadata": {}
  },
  {
   "cell_type": "markdown",
   "source": [
    "The DFT can consequently be splitted into 4 parts:\n",
    "\n",
    "1. The zero-frequency coefficient $X(0)$, which is real valued,\n",
    "2. The (F/2-1) positive-frequency coefficients $X(f)$, $f = 1,...,F/2-1$,\n",
    "3. The Nyquist-frequency coefficient $X(F/2)$, which is real valued,\n",
    "4. The (F/2-1) negative-frequency coefficients $X(f)$, $f = F/2+1,...,F-1$.\n",
    "\n",
    "The Hermitian symmetry property tells us that the negative-frequency coefficients are equal to the conjugate of the positive-frequency coefficients when we reverse the frequency axis. Let's verify this."
   ],
   "metadata": {}
  },
  {
   "cell_type": "code",
   "execution_count": null,
   "source": [
    "# zero-frequency coefficient\n",
    "X_0 = X[0]\n",
    "print(\"DFT coef. at frequency 0: \", end='')\n",
    "print(X_0)\n",
    "\n",
    "# positive-frequency coefficient\n",
    "X_p = X[1:F//2] # shape F/2-1\n",
    "\n",
    "# Nyquist-frequency coefficient\n",
    "X_nyq = X[F//2]\n",
    "print(\"DFT coef. at Nyquist frequency: \", end='')\n",
    "print(X_nyq)\n",
    "\n",
    "# negative-frequency coefficient\n",
    "X_n = X[F//2+1:] # shape F/2-1\n",
    "\n",
    "# using the Hermitian symetry property, we can predict the negative part from the positive one\n",
    "X_n_from_p = np.conj(np.flipud(X_p))\n",
    "\n",
    "# we can verify that Hermitian symetry holds\n",
    "print(\"Error: \", end='')\n",
    "print(np.sum(X_n - X_n_from_p))"
   ],
   "outputs": [],
   "metadata": {}
  }
 ],
 "metadata": {
  "celltoolbar": "Format de la Cellule Texte Brut",
  "kernelspec": {
   "display_name": "Python 3",
   "language": "python",
   "name": "python3"
  },
  "language_info": {
   "codemirror_mode": {
    "name": "ipython",
    "version": 3
   },
   "file_extension": ".py",
   "mimetype": "text/x-python",
   "name": "python",
   "nbconvert_exporter": "python",
   "pygments_lexer": "ipython3",
   "version": "3.8.3"
  }
 },
 "nbformat": 4,
 "nbformat_minor": 2
}