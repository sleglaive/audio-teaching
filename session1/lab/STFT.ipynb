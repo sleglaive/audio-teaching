{
 "cells": [
  {
   "cell_type": "markdown",
   "metadata": {},
   "source": [
    "# Analysis, transformation and synthesis of audio signals using the STFT"
   ]
  },
  {
   "cell_type": "markdown",
   "metadata": {},
   "source": [
    "## Reminders\n",
    "\n",
    "### Definition\n",
    "\n",
    "Let $x(t) \\in \\mathbb{R}$ be a signal defined in the time domain $t \\in \\mathbb{Z}$ with support $\\{0,...,T-1\\}$. \n",
    "\n",
    "The short-time Fourier transform (STFT) is defined by:\n",
    "$$ X(f,n) = \\sum_{t \\in \\mathbb{Z}} x_n(t) \\exp\\left(-j2\\pi \\frac{ft}{F}\\right), \\qquad \\forall (f,n) \\in \\{0,...,F-1\\} \\times \\mathbb{Z}, \\qquad (1)$$\n",
    "where\n",
    "$$ x_n(t) =  x(t + nH) w(t), \\qquad (2)$$\n",
    "and\n",
    "\n",
    "- $w(t)$ is a window of support $\\{0,...,L-1\\}$;\n",
    "- $H$ is the analysis hop size with $L/H \\in \\mathbb{N}$;\n",
    "- $F$ is the order of the discrete Fourier transform (we will choose $F=L$).\n",
    "\n",
    "The inverse STFT is defined by:\n",
    "$$ \\hat{x}(t) = \\sum_{n \\in \\mathbb{Z} } w(t-nH) \\hat{x}_n(t-nH), \\qquad \\forall t \\in \\mathbb{Z}, \\qquad (3)$$ \n",
    "where\n",
    "$$ \\hat{x}_n(t) = \\frac{1}{F}\\sum_{f=0}^{F-1} X(f,n) \\exp\\left(+ j2\\pi \\frac{ft}{F}\\right). \\qquad (4) $$\n",
    "\n",
    "### Important properties\n",
    "\n",
    "1. Hermitian symmetry: $X(F-f,n) = X^*(f,n)$, which is inheritated from the DFT.\n",
    "\n",
    "2. Perfect reconstruction (i.e. $\\hat{x}(t) = x(t)$) is ensured provided that the window $w(t)$ satisfies:\n",
    "\n",
    "$$ \\sum_{n \\in \\mathbb{Z} } w^2(t-nH) = 1. \\qquad (5)$$\n",
    "\n",
    "---\n",
    "\n",
    "This is not a signal processing course so proving these properties is left as a homework, served with the following hint: $\\displaystyle \\frac{1}{F} \\sum_{f=0}^{F-1} \\exp\\left( -j 2 \\pi \\frac{ft}{F} \\right) = 1$ if $t=0$, and $0$ if $t \\in \\mathbb{Z}^*$. It corresponds to the sum of the $F$-th roots of unity, and this result can be shown by recognizing  a sum of the successive terms of a geometric sequence.\n",
    "\n",
    "---"
   ]
  },
  {
   "cell_type": "markdown",
   "metadata": {},
   "source": [
    "## Outline of the notebook\n",
    "\n",
    "* #### <a href='#II.1'>1. Perfect reconstruction</a> \n",
    "\n",
    "    The objective is to verify that the perfect reconstruction condition is verified with the sine window.\n",
    "\n",
    "* #### <a href='#II.2'>2. STFT implementation</a> \n",
    "\n",
    "    The objective is to implement the STFT and observe the power spectrogram for different sounds and parameters.\n",
    "\n",
    "* #### <a href='#II.3'>3. Inverse STFT implementation</a> \n",
    "\n",
    "    The objective is to implement the inverse STFT and observe that we indeed have perfect reconstruction.\n",
    "    \n",
    "* #### <a href='#II.4'>4. Analysis, transformation and synthesis of audio signals</a> \n",
    "\n",
    "    The objective is to transform an audio signal in the STFT domain."
   ]
  },
  {
   "cell_type": "markdown",
   "metadata": {},
   "source": [
    "Let us first import packages and define some important parameters."
   ]
  },
  {
   "cell_type": "code",
   "execution_count": null,
   "metadata": {},
   "outputs": [],
   "source": [
    "import matplotlib\n",
    "# matplotlib.use('Qt4Agg') # if problem with PyQt5\n",
    "\n",
    "import numpy as np\n",
    "import soundfile as sf \n",
    "import matplotlib.pyplot as plt\n",
    "%matplotlib inline"
   ]
  },
  {
   "cell_type": "code",
   "execution_count": null,
   "metadata": {},
   "outputs": [],
   "source": [
    "fs = 16000 # sampling rate\n",
    "wlen_sec = 32e-3 # STFT window length in seconds\n",
    "hop_percent = 0.5  # hop size as a percentage of the window length\n",
    "L = wlen_sec*fs # window length in samples\n",
    "L = np.int(np.power(2, np.ceil(np.log2(L)))) # round to the next power of 2 to fasten fft \n",
    "H = np.int(hop_percent*L) # hop size in samples\n",
    "nfft = L # number of points (i.e. order) of the discrete Fourier transform\n",
    "F = L//2 + 1  # number of positive frequency bins"
   ]
  },
  {
   "cell_type": "markdown",
   "metadata": {},
   "source": [
    "<a id='II.1'></a>\n",
    "\n",
    "### 1. Perfect reconstruction\n",
    "\n",
    "We define the following analysis/synthesis window:\n",
    "$$ w(t) = \\sin\\left( \\frac{\\pi}{L} \\left(t + \\frac{1}{2}\\right) \\right), \\qquad t = 0,..., L-1. \\qquad (6)$$"
   ]
  },
  {
   "cell_type": "code",
   "execution_count": null,
   "metadata": {},
   "outputs": [],
   "source": [
    "win = np.sin(np.arange(.5,L-.5+1)/L*np.pi); # sine analysis window\n",
    "time_axis = np.arange(0, L)/fs\n",
    "plt.plot(time_axis, win)\n",
    "plt.xlabel('time (s)')\n",
    "plt.ylabel('amplitude')\n",
    "plt.title('sine window')"
   ]
  },
  {
   "cell_type": "markdown",
   "metadata": {},
   "source": [
    "We verify that the perfect reconstruction condition (5) is satisfied with the sine window. We define an arbitrary number of time frames $N = 10$ for the overlap-add operation, such that $n=0,...,N-1$, and we compute the overlap-add in (5)."
   ]
  },
  {
   "cell_type": "code",
   "execution_count": null,
   "metadata": {},
   "outputs": [],
   "source": [
    "N = 10\n",
    "ola = np.zeros((N-1)*H+L) # array to save the result of the overlap-add\n",
    "\n",
    "for n in np.arange(N):\n",
    "    ind_beg = n*H\n",
    "    ind_end = ind_beg+L\n",
    "    ola[ind_beg:ind_end] += win**2\n",
    "    \n",
    "plt.plot(ola)"
   ]
  },
  {
   "cell_type": "markdown",
   "metadata": {},
   "source": [
    "We indeed observe that except for the edges, relation (5) is verified. In practice, when computing the STFT, we will do some preprocessing (add zeros) to deal with edges. When computing the inverse STFT, we will apply the corresponding postprocessing (remove first and last coefficients) to ensure perfect reconstruction. Note that we would also simply divide by the overlap-add of the sine window after computing the inverse STFT."
   ]
  },
  {
   "cell_type": "markdown",
   "metadata": {},
   "source": [
    "<a id='II.2'></a>\n",
    "### 2. STFT implementation"
   ]
  },
  {
   "cell_type": "markdown",
   "metadata": {},
   "source": [
    "Let's first load a signal"
   ]
  },
  {
   "cell_type": "code",
   "execution_count": null,
   "metadata": {},
   "outputs": [],
   "source": [
    "from preprocessing import preprocessing\n",
    "import IPython.display as ipd\n",
    "\n",
    "wavfile = './data/piano_drums_mix.wav'\n",
    "\n",
    "x, fs = sf.read(wavfile)\n",
    "if len(x.shape)>1:\n",
    "    x = x[:,0]\n",
    "x = x/np.max(np.abs(x))\n",
    "x = preprocessing(x, L, H) # some preprocessing to deal with edges and ensure perfect reconstruction\n",
    "T = x.shape[0]\n",
    "\n",
    "time_axis = np.arange(0, T)/fs\n",
    "plt.figure(figsize=(10,3))\n",
    "plt.plot(time_axis, x)\n",
    "plt.xlabel('time (s)')\n",
    "plt.ylabel('amplitude')\n",
    "plt.title('waveform')\n",
    "\n",
    "ipd.Audio(x, rate=fs) "
   ]
  },
  {
   "cell_type": "markdown",
   "metadata": {},
   "source": [
    "### Exercise\n",
    "\n",
    "Complete the following cell to implement the STFT. \n",
    "\n",
    "You have to:\n",
    "\n",
    "- Loop over the number of frames $n = 0, ..., N-1$.\n",
    "- At each time frame, select the appropriate portion of the signal, and multiply it with the sine window as in equation (2). You should end-up with an array of dimension $L$.\n",
    "- Compute the discrete Fourier transform (DFT) (over $L$ points) of the frame (use np.fft.fft) as in equation (1).\n",
    "- Exploiting the Hermitian symmetry property, discard the redundant part of the spectrum, by only keeping the first part of the spectrum (until Nyquist frequency, included). You should end-up with an array of dimention $F=L/2 + 1$."
   ]
  },
  {
   "cell_type": "code",
   "execution_count": null,
   "metadata": {},
   "outputs": [],
   "source": [
    "N = np.int( (T-L)/H ) + 1 # number of time frames\n",
    "\n",
    "X = np.zeros( (F, N), dtype=np.cfloat )\n",
    "\n",
    "for n in np.arange(N):\n",
    "#### TO COMPLETE ####\n",
    "    pass"
   ]
  },
  {
   "cell_type": "markdown",
   "metadata": {},
   "source": [
    "Below, we display the resulting power spectrogram."
   ]
  },
  {
   "cell_type": "code",
   "execution_count": null,
   "metadata": {},
   "outputs": [],
   "source": [
    "X2_dB = 10*np.log10(np.abs(X)**2) # power spectrogram in dB\n",
    "\n",
    "plt.figure(figsize=(10,7))\n",
    "plt.imshow(X2_dB, origin='lower',  aspect='auto', cmap='magma', extent=[0, (N-1)*H/fs, 0, fs/2])\n",
    "\n",
    "plt.clim(vmin=-50, vmax=None)\n",
    "plt.colorbar()   \n",
    "plt.xlabel('time (s)')\n",
    "plt.ylabel('frequency (Hz)')\n",
    "plt.title('power spectrogram')"
   ]
  },
  {
   "cell_type": "markdown",
   "metadata": {},
   "source": [
    "### Exercise\n",
    "\n",
    "1. How would you describe the difference between the spectrogram of the piano and drums signals (```piano_scale.wav``` and ```drums.wav``` in the ```data``` directory).\n",
    "\n",
    "2. What is the effect of the analysis window length?\n",
    "\n",
    "3. Would you choose the same window length for computing the spectrograms of the drums and piano signals?\n",
    "\n",
    "4. Load ```piano_drums_mix.wav``` and look at its spectrogram. We would like to decompose this spectrogram into the sum of two spectrograms, one for the piano, one for the drums. What properties would you like to enforce in each of these two spectrograms?"
   ]
  },
  {
   "cell_type": "markdown",
   "metadata": {},
   "source": [
    "<a id='II.3'></a>\n",
    "### 3. Inverse STFT implementation\n",
    "\n",
    "### Exercise\n",
    "\n",
    "Complete the following cell to implement the inverse STFT. \n",
    "\n",
    "You have to:\n",
    "\n",
    "- Loop over the number of frames $n = 0, ..., N-1$.\n",
    "- For each frame, restore the Hermitian symmetry of the spectrum. You should end-up with an array of dimension $L$.\n",
    "- Compute the inverse DFT (use np.fft.ifft) as in equation (4).\n",
    "- Compute overlap-add, as in equation (3), similarly as what has been done to compute the `ola` array in Section 1."
   ]
  },
  {
   "cell_type": "code",
   "execution_count": null,
   "metadata": {},
   "outputs": [],
   "source": [
    "x_hat = np.zeros((N-1)*H + L)\n",
    "\n",
    "for n in np.arange(N):\n",
    "#### TO COMPLETE ####\n",
    "    pass"
   ]
  },
  {
   "cell_type": "markdown",
   "metadata": {},
   "source": [
    "Plot the reconstruction error in the next cell."
   ]
  },
  {
   "cell_type": "code",
   "execution_count": null,
   "metadata": {},
   "outputs": [],
   "source": []
  },
  {
   "cell_type": "markdown",
   "metadata": {},
   "source": [
    "<a id='II.4'></a>\n",
    "### 4. Analysis-transformation-synthesis\n",
    "\n",
    "Your a DJ looking for new awesome audio effects for the post-COVID party you are preparing. You have this great idea of filtering the following piece of acid techno music with some oscillating Gaussian in the STFT domain (yes your are also quite familiar with signal processing)."
   ]
  },
  {
   "cell_type": "code",
   "execution_count": null,
   "metadata": {},
   "outputs": [],
   "source": [
    "x, fs = sf.read('data/acid.wav')\n",
    "T = x.shape[0]\n",
    "ipd.Audio(x, rate=fs) "
   ]
  },
  {
   "cell_type": "markdown",
   "metadata": {},
   "source": [
    "Now that you are an expert of the STFT, you are allowed to use a Python library to compute it. Look for the corresponding function in the [librosa](https://librosa.org/doc/latest/index.html) library and use it in the next cell to compute the STFT of the above-loaded audio file."
   ]
  },
  {
   "cell_type": "code",
   "execution_count": null,
   "metadata": {},
   "outputs": [],
   "source": [
    "import librosa\n",
    "\n",
    "#### TO COMPLETE ####\n",
    "X = None\n",
    "####################\n",
    "\n",
    "N = X.shape[1]\n",
    "\n",
    "X2_dB = 10*np.log10(np.abs(X)**2) # power spectrogram in dB\n",
    "\n",
    "plt.figure(figsize=(10,7))\n",
    "plt.imshow(X2_dB, origin='lower',  aspect='auto', cmap='magma', extent=[0, (N-1)*H/fs, 0, fs/2])\n",
    "\n",
    "plt.clim(vmin=-50, vmax=None)\n",
    "plt.colorbar()   \n",
    "plt.xlabel('time (s)')\n",
    "plt.ylabel('frequency (Hz)')\n",
    "plt.title('power spectrogram')"
   ]
  },
  {
   "cell_type": "markdown",
   "metadata": {},
   "source": [
    "In the following cell, we design the oscillating Gaussian filter, with a length of 10 seconds."
   ]
  },
  {
   "cell_type": "code",
   "execution_count": null,
   "metadata": {
    "scrolled": false
   },
   "outputs": [],
   "source": [
    "T_filt = 10*fs\n",
    "N_filt = int( (T_filt-L)/H ) + 1 # number of time frames\n",
    "\n",
    "t = np.linspace(0, T_filt/fs, N_filt) # vector of time indices in seconds\n",
    "osc_freq = 0.5 # frequency of the oscillation in Hz\n",
    "center_frequency = 1500 + 500 * np.sin(2*np.pi*osc_freq*t) # center frequency of the band-pass filter in Hz\n",
    "width = 2000.0 # width of the Gaussian\n",
    "# generates a Gaussian over the frequency axis with a given center and width\n",
    "gauss = lambda x, mu: 2.0 * np.pi * width**-2.0 * np.exp(- ((x - mu) / width)**2.0) \n",
    "\n",
    "frequencies = np.linspace(0, fs/2, F) # vector of frequency indices in Hz\n",
    "TF_filter = np.array([gauss(frequencies, cf) for cf in center_frequency]).T # time-frequency magnitude filter\n",
    "TF_filter /= TF_filter.max(axis=0, keepdims=True) # normalize to be between 0 and 1\n",
    "\n",
    "plt.figure(figsize=(10,7))\n",
    "plt.imshow(TF_filter, origin='lower',  aspect='auto', cmap='magma', extent=[0, (N_filt-1)*H/fs, 0, fs/2])\n",
    "\n",
    "plt.colorbar()   \n",
    "plt.xlabel('time (s)')\n",
    "plt.ylabel('frequency (Hz)')\n",
    "plt.title('time-frequency filter')"
   ]
  },
  {
   "cell_type": "markdown",
   "metadata": {},
   "source": [
    "### Exercise\n",
    "\n",
    "Apply the filter to a portion of your choice of the original signal."
   ]
  },
  {
   "cell_type": "code",
   "execution_count": null,
   "metadata": {},
   "outputs": [],
   "source": [
    "#### TO COMPLETE ####\n",
    "X_filt = None\n",
    "####################\n",
    "\n",
    "X2_filt_dB = 10*np.log10(np.abs(X_filt)**2 + 1e-5) # power spectrogram in dB\n",
    "\n",
    "plt.figure(figsize=(10,7))\n",
    "plt.imshow(X2_filt_dB, origin='lower',  aspect='auto', cmap='magma', extent=[0, (N-1)*H/fs, 0, fs/2])\n",
    "\n",
    "plt.clim(vmin=-50, vmax=None)\n",
    "plt.colorbar()   \n",
    "plt.xlabel('time (s)')\n",
    "plt.ylabel('frequency (Hz)')\n",
    "plt.title('power spectrogram')"
   ]
  },
  {
   "cell_type": "markdown",
   "metadata": {},
   "source": [
    "Look for the inverse STFT function in librosa, and use it in the next cell to reconstruct a time-domain signal."
   ]
  },
  {
   "cell_type": "code",
   "execution_count": null,
   "metadata": {},
   "outputs": [],
   "source": [
    "####################\n",
    "x_filt = None\n",
    "####################"
   ]
  },
  {
   "cell_type": "markdown",
   "metadata": {},
   "source": [
    "Plot and listen to the resulting audio signal."
   ]
  },
  {
   "cell_type": "code",
   "execution_count": null,
   "metadata": {
    "scrolled": true
   },
   "outputs": [],
   "source": [
    "time_axis = np.arange(0, T)/fs\n",
    "plt.figure(figsize=(10,3))\n",
    "plt.plot(time_axis, x_filt)\n",
    "plt.xlabel('time (s)')\n",
    "plt.ylabel('amplitude')\n",
    "plt.title('waveform')\n",
    "\n",
    "ipd.Audio(x_filt, rate=fs) "
   ]
  }
 ],
 "metadata": {
  "kernelspec": {
   "display_name": "Python 3",
   "language": "python",
   "name": "python3"
  },
  "language_info": {
   "codemirror_mode": {
    "name": "ipython",
    "version": 3
   },
   "file_extension": ".py",
   "mimetype": "text/x-python",
   "name": "python",
   "nbconvert_exporter": "python",
   "pygments_lexer": "ipython3",
   "version": "3.8.3"
  }
 },
 "nbformat": 4,
 "nbformat_minor": 1
}
